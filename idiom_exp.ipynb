{
 "cells": [
  {
   "cell_type": "markdown",
   "metadata": {},
   "source": [
    "## Import dataset"
   ]
  },
  {
   "cell_type": "code",
   "execution_count": 1,
   "metadata": {},
   "outputs": [],
   "source": [
    "import pandas as pd"
   ]
  },
  {
   "cell_type": "code",
   "execution_count": 2,
   "metadata": {},
   "outputs": [],
   "source": [
    "df = pd.read_csv('/home/kkatsy/idioms/gpt3.5_ru_idioms.csv')\n",
    "df = df.drop(columns=['Unnamed: 2', 'Unnamed: 3', 'Unnamed: 4',\n",
    "       'Unnamed: 5', 'Unnamed: 6', 'Unnamed: 7', 'Unnamed: 8', 'Unnamed: 9',\n",
    "       'Unnamed: 10'])\n",
    "df = df.rename(columns={'Unnamed: 0': 'idiom', 'Unnamed: 1': 'sent'})"
   ]
  },
  {
   "cell_type": "code",
   "execution_count": 3,
   "metadata": {},
   "outputs": [],
   "source": [
    "gpt_dict = {}\n",
    "for index, row in df.iterrows():\n",
    "    id = row['idiom']\n",
    "    sent = row['sent']\n",
    "    \n",
    "    if id not in gpt_dict:\n",
    "        gpt_dict[id] = []\n",
    "        \n",
    "    sent = sent.split('. ', 1)[1]\n",
    "    gpt_dict[id].append(sent)"
   ]
  },
  {
   "cell_type": "code",
   "execution_count": 4,
   "metadata": {},
   "outputs": [
    {
     "data": {
      "text/plain": [
       "dict_keys(['наплевать в лицо', 'дело жизни и смерти', 'гром и молния', 'впиваться глазами', 'остолбенеть от удивления', 'возвышать голос', 'ни одной копейки', 'надоесть как редька', 'из капли океана', 'попасть на след', 'вкушать плоды', 'покраснеть как рак', 'из мухи делать слона', 'едва переставлять ноги', 'мелькнуло в уме', 'дрожать как лист', 'до поры до времени', 'ни живой души', 'дело тёмное', 'на каждом шагу', 'в глаза смеяться', 'закон не писан', 'прирасти к месту', 'доживать век', 'не помнить себя', 'высунуть язык', 'маху дал', 'говорить чушь', 'на том свете', 'подошвы не стоить'])"
      ]
     },
     "execution_count": 4,
     "metadata": {},
     "output_type": "execute_result"
    }
   ],
   "source": [
    "gpt_dict.keys()"
   ]
  },
  {
   "cell_type": "code",
   "execution_count": 5,
   "metadata": {},
   "outputs": [],
   "source": [
    "df = pd.read_csv('/home/kkatsy/idioms/llama2_ru_idioms.csv')"
   ]
  },
  {
   "cell_type": "code",
   "execution_count": 6,
   "metadata": {},
   "outputs": [
    {
     "data": {
      "text/html": [
       "<div>\n",
       "<style scoped>\n",
       "    .dataframe tbody tr th:only-of-type {\n",
       "        vertical-align: middle;\n",
       "    }\n",
       "\n",
       "    .dataframe tbody tr th {\n",
       "        vertical-align: top;\n",
       "    }\n",
       "\n",
       "    .dataframe thead th {\n",
       "        text-align: right;\n",
       "    }\n",
       "</style>\n",
       "<table border=\"1\" class=\"dataframe\">\n",
       "  <thead>\n",
       "    <tr style=\"text-align: right;\">\n",
       "      <th></th>\n",
       "      <th>Unnamed: 0</th>\n",
       "      <th>Unnamed: 1</th>\n",
       "      <th></th>\n",
       "      <th>Unnamed: 3</th>\n",
       "      <th>Unnamed: 4</th>\n",
       "      <th>Unnamed: 5</th>\n",
       "      <th>Unnamed: 6</th>\n",
       "    </tr>\n",
       "  </thead>\n",
       "  <tbody>\n",
       "    <tr>\n",
       "      <th>0</th>\n",
       "      <td>наплевать в лицо</td>\n",
       "      <td>1. Я не мог поверить, что он наплевал мне в ли...</td>\n",
       "      <td>NaN</td>\n",
       "      <td>NaN</td>\n",
       "      <td>NaN</td>\n",
       "      <td>NaN</td>\n",
       "      <td>NaN</td>\n",
       "    </tr>\n",
       "    <tr>\n",
       "      <th>1</th>\n",
       "      <td>дело жизни и смерти</td>\n",
       "      <td>1. Я считаю, что это дело жизни и смерти, чтоб...</td>\n",
       "      <td>NaN</td>\n",
       "      <td>NaN</td>\n",
       "      <td>NaN</td>\n",
       "      <td>NaN</td>\n",
       "      <td>NaN</td>\n",
       "    </tr>\n",
       "    <tr>\n",
       "      <th>2</th>\n",
       "      <td>гром и молния</td>\n",
       "      <td>1. Я был поражен громом и молнией, когда увиде...</td>\n",
       "      <td>NaN</td>\n",
       "      <td>NaN</td>\n",
       "      <td>NaN</td>\n",
       "      <td>NaN</td>\n",
       "      <td>NaN</td>\n",
       "    </tr>\n",
       "    <tr>\n",
       "      <th>3</th>\n",
       "      <td>впиваться глазами</td>\n",
       "      <td>1. Она впивалась глазами в его лицо, когда он ...</td>\n",
       "      <td>NaN</td>\n",
       "      <td>NaN</td>\n",
       "      <td>NaN</td>\n",
       "      <td>NaN</td>\n",
       "      <td>NaN</td>\n",
       "    </tr>\n",
       "    <tr>\n",
       "      <th>4</th>\n",
       "      <td>остолбенеть от удивления</td>\n",
       "      <td>1. Я был остолбенеть от удивления, когда увиде...</td>\n",
       "      <td>NaN</td>\n",
       "      <td>NaN</td>\n",
       "      <td>NaN</td>\n",
       "      <td>NaN</td>\n",
       "      <td>NaN</td>\n",
       "    </tr>\n",
       "  </tbody>\n",
       "</table>\n",
       "</div>"
      ],
      "text/plain": [
       "                 Unnamed: 0  \\\n",
       "0          наплевать в лицо   \n",
       "1       дело жизни и смерти   \n",
       "2             гром и молния   \n",
       "3         впиваться глазами   \n",
       "4  остолбенеть от удивления   \n",
       "\n",
       "                                          Unnamed: 1      Unnamed: 3  \\\n",
       "0  1. Я не мог поверить, что он наплевал мне в ли... NaN         NaN   \n",
       "1  1. Я считаю, что это дело жизни и смерти, чтоб... NaN         NaN   \n",
       "2  1. Я был поражен громом и молнией, когда увиде... NaN         NaN   \n",
       "3  1. Она впивалась глазами в его лицо, когда он ... NaN         NaN   \n",
       "4  1. Я был остолбенеть от удивления, когда увиде... NaN         NaN   \n",
       "\n",
       "   Unnamed: 4  Unnamed: 5 Unnamed: 6  \n",
       "0         NaN         NaN        NaN  \n",
       "1         NaN         NaN        NaN  \n",
       "2         NaN         NaN        NaN  \n",
       "3         NaN         NaN        NaN  \n",
       "4         NaN         NaN        NaN  "
      ]
     },
     "execution_count": 6,
     "metadata": {},
     "output_type": "execute_result"
    }
   ],
   "source": [
    "df.head()"
   ]
  },
  {
   "cell_type": "code",
   "execution_count": 7,
   "metadata": {},
   "outputs": [
    {
     "data": {
      "text/plain": [
       "Index(['idiom', 'sents'], dtype='object')"
      ]
     },
     "execution_count": 7,
     "metadata": {},
     "output_type": "execute_result"
    }
   ],
   "source": [
    "df = df.drop(columns=['Unnamed: 3', 'Unnamed: 4','Unnamed: 5', 'Unnamed: 6', ' '])\n",
    "df = df.rename(columns={'Unnamed: 0': 'idiom', 'Unnamed: 1': 'sents'})\n",
    "df.columns"
   ]
  },
  {
   "cell_type": "code",
   "execution_count": 8,
   "metadata": {},
   "outputs": [],
   "source": [
    "llama_dict = {}\n",
    "for index, row in df.iterrows():\n",
    "    id = row['idiom']\n",
    "    sentences = row['sents']\n",
    "    \n",
    "    if id not in llama_dict:\n",
    "        llama_dict[id] = []\n",
    "    \n",
    "    sentences = sentences.split(')')\n",
    "    for s in sentences:\n",
    "        if s!='':\n",
    "            s = s.split('. ', 1)[1]\n",
    "            s = s.split(' (', 1)[0]\n",
    "            llama_dict[id].append(s)"
   ]
  },
  {
   "cell_type": "code",
   "execution_count": 9,
   "metadata": {},
   "outputs": [
    {
     "data": {
      "text/plain": [
       "dict_keys(['наплевать в лицо', 'дело жизни и смерти', 'гром и молния', 'впиваться глазами', 'остолбенеть от удивления', 'возвышать голос', 'нет ни одной копейки', 'надоесть как редька', 'из капли океана', 'попасть на след', 'вкушать плоды', 'покраснеть как рак', 'из мухи делать слона', 'едва переставлять ноги', 'мелькнуло в уме', 'дрожать как лист', 'до поры до времени', 'ни живой души', 'дело тёмное', 'на каждом шагу', 'в глаза смеяться', 'закон не писан', 'прирасти к месту', 'доживать век', 'не помнить себя', 'высунуть язык', 'маху дал', 'говорить чушь', 'на том свете', 'подошвы не стоить'])"
      ]
     },
     "execution_count": 9,
     "metadata": {},
     "output_type": "execute_result"
    }
   ],
   "source": [
    "llama_dict.keys()"
   ]
  },
  {
   "cell_type": "markdown",
   "metadata": {},
   "source": [
    "## Stats"
   ]
  },
  {
   "cell_type": "code",
   "execution_count": 10,
   "metadata": {},
   "outputs": [
    {
     "name": "stdout",
     "output_type": "stream",
     "text": [
      "GPT toks:  9215\n",
      "Llama toks:  6210\n",
      "GPT toks/sent:  15.358333333333333\n",
      "Llama toks/sent:  13.8\n",
      "GPT chars/sent:  82.985\n",
      "Llama chars/sent:  66.42\n"
     ]
    }
   ],
   "source": [
    "from nltk.tokenize import sent_tokenize, word_tokenize\n",
    "\n",
    "gpt_total_toks = 0\n",
    "gpt_total = 0\n",
    "gpt_chars = 0\n",
    "llama_total_toks = 0\n",
    "llama_total = 0\n",
    "llama_chars = 0\n",
    "for i in gpt_dict.keys():\n",
    "    gpt_sents = ' '.join(gpt_dict[i])\n",
    "    gpt_toks = word_tokenize(gpt_sents)\n",
    "    gpt_total_toks += len(gpt_toks)\n",
    "    gpt_total += len(gpt_dict[i]) \n",
    "    gpt_chars += len(' '.join(gpt_dict[i]))\n",
    "    \n",
    "\n",
    "for i in llama_dict.keys():\n",
    "    llama_sents = ' '.join(llama_dict[i])\n",
    "    llama_toks = word_tokenize(llama_sents)\n",
    "    llama_total_toks += len(llama_toks)\n",
    "    llama_total += len(llama_dict[i])\n",
    "    llama_chars += len(' '.join(llama_dict[i]))\n",
    "    \n",
    "print('GPT toks: ', gpt_total_toks)\n",
    "print('Llama toks: ', llama_total_toks)\n",
    "\n",
    "print('GPT toks/sent: ', gpt_total_toks/gpt_total)\n",
    "print('Llama toks/sent: ', llama_total_toks/llama_total)\n",
    "\n",
    "print('GPT chars/sent: ', gpt_chars/gpt_total)\n",
    "print('Llama chars/sent: ', llama_chars/llama_total)"
   ]
  },
  {
   "cell_type": "markdown",
   "metadata": {},
   "source": [
    "## Unique tokens"
   ]
  },
  {
   "cell_type": "code",
   "execution_count": 11,
   "metadata": {},
   "outputs": [
    {
     "data": {
      "text/plain": [
       "2171"
      ]
     },
     "execution_count": 11,
     "metadata": {},
     "output_type": "execute_result"
    }
   ],
   "source": [
    "gpt_vocab = []\n",
    "gpt_idioms = []\n",
    "for i in gpt_dict.keys():\n",
    "    gpt_sents = ' '.join(gpt_dict[i])\n",
    "    gpt_toks = word_tokenize(gpt_sents)\n",
    "    gpt_vocab.extend(gpt_toks)\n",
    "    gpt_idioms.append(i)\n",
    "\n",
    "gpt_unique = list(set(gpt_vocab))\n",
    "gpt_id_toks = list(set(gpt_idioms))\n",
    "\n",
    "len(gpt_unique)"
   ]
  },
  {
   "cell_type": "code",
   "execution_count": 12,
   "metadata": {},
   "outputs": [
    {
     "ename": "NameError",
     "evalue": "name 'plt' is not defined",
     "output_type": "error",
     "traceback": [
      "\u001b[0;31m---------------------------------------------------------------------------\u001b[0m",
      "\u001b[0;31mNameError\u001b[0m                                 Traceback (most recent call last)",
      "Cell \u001b[0;32mIn[12], line 9\u001b[0m\n\u001b[1;32m      7\u001b[0m train_len \u001b[38;5;241m=\u001b[39m [\u001b[38;5;28mlen\u001b[39m(\u001b[38;5;28mlist\u001b[39m(\u001b[38;5;28mset\u001b[39m(t))) \u001b[38;5;28;01mfor\u001b[39;00m t \u001b[38;5;129;01min\u001b[39;00m gpt_idiom_list]\n\u001b[1;32m      8\u001b[0m max_len \u001b[38;5;241m=\u001b[39m \u001b[38;5;28mmax\u001b[39m(train_len)\n\u001b[0;32m----> 9\u001b[0m plt\u001b[38;5;241m.\u001b[39mhist(train_len, bins\u001b[38;5;241m=\u001b[39m\u001b[38;5;241m20\u001b[39m, color\u001b[38;5;241m=\u001b[39m\u001b[38;5;124m'\u001b[39m\u001b[38;5;124mgold\u001b[39m\u001b[38;5;124m'\u001b[39m, edgecolor \u001b[38;5;241m=\u001b[39m \u001b[38;5;124m\"\u001b[39m\u001b[38;5;124mblack\u001b[39m\u001b[38;5;124m\"\u001b[39m) \n\u001b[1;32m     10\u001b[0m plt\u001b[38;5;241m.\u001b[39mtitle(\u001b[38;5;124m'\u001b[39m\u001b[38;5;124mChatGPT: Num Unique Tokens Per Sentence\u001b[39m\u001b[38;5;124m'\u001b[39m)\n\u001b[1;32m     11\u001b[0m plt\u001b[38;5;241m.\u001b[39mxlabel(\u001b[38;5;124m'\u001b[39m\u001b[38;5;124mNum Tokens in Sentence\u001b[39m\u001b[38;5;124m'\u001b[39m)\n",
      "\u001b[0;31mNameError\u001b[0m: name 'plt' is not defined"
     ]
    }
   ],
   "source": [
    "  \n",
    "gpt_idiom_list = []\n",
    "for i in gpt_dict.keys():\n",
    "    ids = gpt_dict[i]\n",
    "    tokenized = [word_tokenize(id) for id in ids]\n",
    "    gpt_idiom_list.extend(tokenized)\n",
    "    \n",
    "train_len = [len(list(set(t))) for t in gpt_idiom_list]\n",
    "max_len = max(train_len)\n",
    "plt.hist(train_len, bins=20, color='gold', edgecolor = \"black\") \n",
    "plt.title('ChatGPT: Num Unique Tokens Per Sentence')\n",
    "plt.xlabel('Num Tokens in Sentence')\n",
    "plt.show() "
   ]
  },
  {
   "cell_type": "code",
   "execution_count": null,
   "metadata": {},
   "outputs": [
    {
     "data": {
      "text/plain": [
       "856"
      ]
     },
     "execution_count": 22,
     "metadata": {},
     "output_type": "execute_result"
    }
   ],
   "source": [
    "llama_vocab = []\n",
    "llama_idioms = []\n",
    "for i in llama_dict.keys():\n",
    "    llama_sents = ' '.join(llama_dict[i])\n",
    "    llama_toks = word_tokenize(llama_sents)\n",
    "    llama_vocab.extend(llama_toks)\n",
    "    llama_idioms.append(i)\n",
    "    \n",
    "llama_unique = list(set(llama_vocab))\n",
    "llama_id_toks = list(set(llama_idioms))\n",
    "\n",
    "len(llama_unique)"
   ]
  },
  {
   "cell_type": "code",
   "execution_count": null,
   "metadata": {},
   "outputs": [
    {
     "data": {
      "image/png": "[encoded data removed]",
      "text/plain": [
       "<Figure size 640x480 with 1 Axes>"
      ]
     },
     "metadata": {},
     "output_type": "display_data"
    }
   ],
   "source": [
    "llama_idiom_list = []\n",
    "for i in llama_dict.keys():\n",
    "    ids = llama_dict[i]\n",
    "    tokenized = [word_tokenize(id) for id in ids]\n",
    "    llama_idiom_list.extend(tokenized)\n",
    "    \n",
    "train_len = [len(list(set(t))) for t in llama_idiom_list]\n",
    "max_len = max(train_len)\n",
    "plt.hist(train_len, bins=20, color='orange', edgecolor = \"black\") \n",
    "plt.title('Llama: Num Unique Tokens Per Sentence')\n",
    "plt.xlabel('Num Unique Tokens in Sentence')\n",
    "plt.show() "
   ]
  },
  {
   "cell_type": "markdown",
   "metadata": {},
   "source": [
    "## Fuzzy matching for Idiom"
   ]
  },
  {
   "cell_type": "code",
   "execution_count": null,
   "metadata": {},
   "outputs": [
    {
     "name": "stdout",
     "output_type": "stream",
     "text": [
      "Requirement already satisfied: thefuzz in ./anaconda3/envs/litmt/lib/python3.11/site-packages (0.22.1)\n",
      "Requirement already satisfied: rapidfuzz<4.0.0,>=3.0.0 in ./anaconda3/envs/litmt/lib/python3.11/site-packages (from thefuzz) (3.6.1)\n"
     ]
    }
   ],
   "source": [
    "! pip install thefuzz"
   ]
  },
  {
   "cell_type": "code",
   "execution_count": null,
   "metadata": {},
   "outputs": [
    {
     "name": "stdout",
     "output_type": "stream",
     "text": [
      "Token sort ratio similarity score: 67\n"
     ]
    }
   ],
   "source": [
    "from thefuzz import fuzz\n",
    "\n",
    "name = \"Kurtis Pykes\"\n",
    "full_name = \"hello my name is Kurtis K D Pykes and i like potatoes\"\n",
    "\n",
    "print(f\"Token sort ratio similarity score: {fuzz.partial_ratio(name, full_name)}\")"
   ]
  },
  {
   "cell_type": "code",
   "execution_count": null,
   "metadata": {},
   "outputs": [
    {
     "data": {
      "image/png": "[encoded data removed]",
      "text/plain": [
       "<Figure size 640x480 with 1 Axes>"
      ]
     },
     "metadata": {},
     "output_type": "display_data"
    },
    {
     "name": "stdout",
     "output_type": "stream",
     "text": [
      "89.08166666666666\n"
     ]
    }
   ],
   "source": [
    "import matplotlib.pyplot as plt\n",
    "from statistics import mean\n",
    "fuzzy_gpt = []\n",
    "fuzzy_llama = []\n",
    "for id in gpt_dict.keys():\n",
    "    for s in gpt_dict[id]:\n",
    "        fuzzy = fuzz.partial_ratio(s, id)\n",
    "        fuzzy_gpt.append(fuzzy)\n",
    "        \n",
    "train_len = [len(list(set(t))) for t in llama_idiom_list]\n",
    "max_len = max(train_len)\n",
    "plt.hist(fuzzy_gpt, bins=20, color='gold', edgecolor = \"black\") \n",
    "plt.title('ChatGPT: Exact Idiom Matches in Generated Sentence')\n",
    "plt.xlabel('Fuzzy Levenshtein Score (100 - exact match)')\n",
    "plt.show() \n",
    "print(mean(fuzzy_gpt))"
   ]
  },
  {
   "cell_type": "code",
   "execution_count": null,
   "metadata": {},
   "outputs": [
    {
     "data": {
      "image/png": "[encoded data removed]",
      "text/plain": [
       "<Figure size 640x480 with 1 Axes>"
      ]
     },
     "metadata": {},
     "output_type": "display_data"
    },
    {
     "name": "stdout",
     "output_type": "stream",
     "text": [
      "89.19333333333333\n"
     ]
    }
   ],
   "source": [
    "fuzzy_llama = []\n",
    "for id in llama_dict.keys():\n",
    "    for s in llama_dict[id]:\n",
    "        fuzzy = fuzz.partial_ratio(s, id)\n",
    "        fuzzy_llama.append(fuzzy)\n",
    "        \n",
    "train_len = [len(list(set(t))) for t in llama_idiom_list]\n",
    "max_len = max(train_len)\n",
    "plt.hist(fuzzy_llama, bins=20, color='orange', edgecolor = \"black\") \n",
    "plt.title('Llama: Exact Idiom Matches in Generated Sentence')\n",
    "plt.xlabel('Fuzzy Levenshtein Score (100 - exact match)')\n",
    "plt.show() \n",
    "print(mean(fuzzy_llama))"
   ]
  },
  {
   "cell_type": "markdown",
   "metadata": {},
   "source": [
    "## Semantic similarity"
   ]
  },
  {
   "cell_type": "code",
   "execution_count": null,
   "metadata": {},
   "outputs": [],
   "source": [
    "# %load par3/par3_align/similarity/sim_models.py\n",
    "import torch\n",
    "import torch.nn as nn\n",
    "from torch.nn.modules.distance import CosineSimilarity\n",
    "import numpy as np\n",
    "\n",
    "class ParaModel(nn.Module):\n",
    "\n",
    "    def __init__(self, args, vocab):\n",
    "        super(ParaModel, self).__init__()\n",
    "\n",
    "        self.args = args\n",
    "        self.vocab = vocab\n",
    "        self.gpu = args.gpu\n",
    "\n",
    "        self.cosine = CosineSimilarity()\n",
    "\n",
    "    def compute_mask(self, lengths):\n",
    "\n",
    "        lengths = lengths.cpu()\n",
    "        max_len = torch.max(lengths)\n",
    "        range_row = torch.arange(0, max_len).long()[None, :].expand(lengths.size()[0], max_len)\n",
    "        mask = lengths[:, None].expand_as(range_row)\n",
    "        mask = range_row < mask\n",
    "        mask = mask.float()\n",
    "        if self.gpu >= 0:\n",
    "            mask = mask.cuda()\n",
    "        return mask\n",
    "\n",
    "    def torchify_batch(self, batch):\n",
    "\n",
    "        max_len = 0\n",
    "        for i in batch:\n",
    "            if len(i.embeddings) > max_len:\n",
    "                max_len = len(i.embeddings)\n",
    "\n",
    "        batch_len = len(batch)\n",
    "\n",
    "        np_sents = np.zeros((batch_len, max_len), dtype='int32')\n",
    "        np_lens = np.zeros((batch_len,), dtype='int32')\n",
    "\n",
    "        for i, ex in enumerate(batch):\n",
    "            np_sents[i, :len(ex.embeddings)] = ex.embeddings\n",
    "            np_lens[i] = len(ex.embeddings)\n",
    "\n",
    "        idxs, lengths, masks = torch.from_numpy(np_sents).long(), \\\n",
    "                               torch.from_numpy(np_lens).float().long(), \\\n",
    "                               self.compute_mask(torch.from_numpy(np_lens).long())\n",
    "\n",
    "        if self.gpu >= 0:\n",
    "            idxs = idxs.cuda()\n",
    "            lengths = lengths.cuda()\n",
    "            masks = masks.cuda()\n",
    "    \n",
    "        return idxs, lengths, masks\n",
    "\n",
    "    def scoring_function(self, g_idxs1, g_mask1, g_lengths1, g_idxs2, g_mask2, g_lengths2):\n",
    "\n",
    "        g1 = self.encode(g_idxs1, g_mask1, g_lengths1)\n",
    "        g2 = self.encode(g_idxs2, g_mask2, g_lengths2)\n",
    "        return self.cosine(g1, g2)\n",
    "\n",
    "class WordAveraging(ParaModel):\n",
    "\n",
    "    def __init__(self, args, vocab):\n",
    "        super(WordAveraging, self).__init__(args, vocab)\n",
    "\n",
    "        self.vocab = vocab\n",
    "        self.embedding = nn.Embedding(len(self.vocab), self.args.dim)\n",
    "\n",
    "        if args.gpu >= 0:\n",
    "           self.cuda()\n",
    "\n",
    "    def encode(self, idxs, mask, lengths):\n",
    "        word_embs = self.embedding(idxs)\n",
    "        word_embs = word_embs * mask[:, :, None]\n",
    "        g = word_embs.sum(dim=1) / lengths[:, None].float()\n",
    "        return g"
   ]
  },
  {
   "cell_type": "code",
   "execution_count": null,
   "metadata": {},
   "outputs": [],
   "source": [
    "# %load par3/par3_align/similarity/sim_utils.py\n",
    "import io\n",
    "import numpy as np\n",
    "import torch\n",
    "\n",
    "def get_wordmap(textfile):\n",
    "    words={}\n",
    "    We = []\n",
    "    f = io.open(textfile, 'r', encoding='utf-8')\n",
    "    lines = f.readlines()\n",
    "    if len(lines[0].split()) == 2:\n",
    "        lines.pop(0)\n",
    "    ct = 0\n",
    "    for (n,i) in enumerate(lines):\n",
    "        word = i.split(' ', 1)[0]\n",
    "        vec = i.split(' ', 1)[1].split(' ')\n",
    "        j = 0\n",
    "        v = []\n",
    "        while j < len(vec):\n",
    "            v.append(float(vec[j]))\n",
    "            j += 1\n",
    "        words[word] = ct\n",
    "        ct += 1\n",
    "        We.append(v)\n",
    "    return words, np.array(We)\n",
    "\n",
    "def get_minibatches_idx(n, minibatch_size, shuffle=False):\n",
    "    idx_list = np.arange(n, dtype=\"int32\")\n",
    "\n",
    "    if shuffle:\n",
    "        np.random.shuffle(idx_list)\n",
    "\n",
    "    minibatches = []\n",
    "    minibatch_start = 0\n",
    "    for i in range(n // minibatch_size):\n",
    "        minibatches.append(idx_list[minibatch_start:\n",
    "                                    minibatch_start + minibatch_size])\n",
    "        minibatch_start += minibatch_size\n",
    "\n",
    "    if (minibatch_start != n):\n",
    "        # Make a minibatch out of what is left\n",
    "        minibatches.append(idx_list[minibatch_start:])\n",
    "\n",
    "    return zip(range(len(minibatches)), minibatches)\n",
    "\n",
    "def max_pool(x, lengths, gpu):\n",
    "    out = torch.FloatTensor(x.size(0), x.size(2)).zero_()\n",
    "    if gpu >= 0:\n",
    "        out = out.cuda()\n",
    "    for i in range(len(lengths)):\n",
    "        out[i] = torch.max(x[i][0:lengths[i]], 0)[0]\n",
    "    return out\n",
    "\n",
    "def mean_pool(x, lengths, gpu):\n",
    "    out = torch.FloatTensor(x.size(0), x.size(2)).zero_()\n",
    "    if gpu >= 0:\n",
    "        out = out.cuda()\n",
    "    for i in range(len(lengths)):\n",
    "        out[i] = torch.mean(x[i][0:lengths[i]], 0)\n",
    "    return out\n",
    "\n",
    "def lookup(words, w):\n",
    "    w = w.lower()\n",
    "    if w in words:\n",
    "        return words[w]\n",
    "\n",
    "class Example(object):\n",
    "\n",
    "    def __init__(self, sentence):\n",
    "        self.sentence = sentence.strip().lower()\n",
    "        self.embeddings = []\n",
    "        self.representation = None\n",
    "\n",
    "    def populate_embeddings(self, words):\n",
    "        sentence = self.sentence.lower()\n",
    "        arr = sentence.split()\n",
    "        for i in arr:\n",
    "            emb = lookup(words, i)\n",
    "            if emb:\n",
    "                self.embeddings.append(emb)\n",
    "        if len(self.embeddings) == 0:\n",
    "            self.embeddings.append(words['UUUNKKK'])"
   ]
  },
  {
   "cell_type": "code",
   "execution_count": null,
   "metadata": {},
   "outputs": [],
   "source": [
    "# %load par3/par3_align/similarity/test_sim.py\n",
    "import torch\n",
    "\n",
    "# from par3_align.similarity.sim_models import WordAveraging\n",
    "# from par3_align.similarity.sim_utils import Example\n",
    "from nltk.tokenize import TreebankWordTokenizer\n",
    "import sentencepiece as spm\n",
    "\n",
    "tok = TreebankWordTokenizer()\n",
    "\n",
    "model = torch.load('par3/par3_align/similarity/sim/sim.pt')\n",
    "state_dict = model['state_dict']\n",
    "vocab_words = model['vocab_words']\n",
    "args = model['args']\n",
    "# turn off gpu\n",
    "model = WordAveraging(args, vocab_words)\n",
    "model.load_state_dict(state_dict, strict=True)\n",
    "sp = spm.SentencePieceProcessor()\n",
    "sp.Load('par3/par3_align/similarity/sim/sim.sp.30k.model')\n",
    "model.eval()\n",
    "\n",
    "def make_example(sentence, model):\n",
    "    sentence = sentence.lower()\n",
    "    sentence = \" \".join(tok.tokenize(sentence))\n",
    "    sentence = sp.EncodeAsPieces(sentence)\n",
    "    wp1 = Example(\" \".join(sentence))\n",
    "    wp1.populate_embeddings(model.vocab)\n",
    "    return wp1\n",
    "\n",
    "def find_similarity(s1, s2):\n",
    "    with torch.no_grad():\n",
    "        s1 = [make_example(x, model) for x in s1]\n",
    "        s2 = [make_example(x, model) for x in s2]\n",
    "        wx1, wl1, wm1 = model.torchify_batch(s1)\n",
    "        wx2, wl2, wm2 = model.torchify_batch(s2)\n",
    "        BATCH_SIZE = 512\n",
    "        all_scores = []\n",
    "        for i in range(0, len(wx1), BATCH_SIZE):\n",
    "            scores = model.scoring_function(wx1[i:i + BATCH_SIZE], wm1[i:i + BATCH_SIZE], wl1[i:i + BATCH_SIZE],\n",
    "                                            wx2[i:i + BATCH_SIZE], wm2[i:i + BATCH_SIZE], wl2[i:i + BATCH_SIZE])\n",
    "            all_scores.extend([x.item() for x in scores])\n",
    "        return all_scores\n",
    "\n",
    "def find_similarity_matrix(s1, s2):\n",
    "    with torch.no_grad():\n",
    "        s1 = [make_example(x, model) for x in s1]\n",
    "        s2 = [make_example(x, model) for x in s2]\n",
    "        wx1, wl1, wm1 = model.torchify_batch(s1)\n",
    "        wx2, wl2, wm2 = model.torchify_batch(s2)\n",
    "\n",
    "        BATCH_SIZE = 2000\n",
    "        vecs1 = []\n",
    "        vecs2 = []\n",
    "        for i in range(0, len(wx1), BATCH_SIZE):\n",
    "            curr_vecs1 = model.encode(idxs=wx1[i:i + BATCH_SIZE],\n",
    "                                      mask=wm1[i:i + BATCH_SIZE],\n",
    "                                      lengths=wl1[i:i + BATCH_SIZE])\n",
    "            vecs1.append(curr_vecs1)\n",
    "        for i in range(0, len(wx2), BATCH_SIZE):\n",
    "            curr_vecs2 = model.encode(idxs=wx2[i:i + BATCH_SIZE],\n",
    "                                      mask=wm2[i:i + BATCH_SIZE],\n",
    "                                      lengths=wl2[i:i + BATCH_SIZE])\n",
    "            vecs2.append(curr_vecs2)\n",
    "        vecs1 = torch.cat(vecs1)\n",
    "        vecs2 = torch.cat(vecs2)\n",
    "        dot_product = torch.matmul(vecs1, vecs2.t())\n",
    "\n",
    "        vecs1_norm = torch.norm(vecs1, dim=1, keepdim=True)\n",
    "        vecs2_norm = torch.norm(vecs2, dim=1, keepdim=True)\n",
    "        norm_product = torch.matmul(vecs1_norm, vecs2_norm.t())\n",
    "    return torch.div(dot_product, norm_product)\n",
    "\n",
    "def encode_text(s1):\n",
    "    with torch.no_grad():\n",
    "        s1 = [make_example(x, model) for x in s1]\n",
    "        wx1, wl1, wm1 = model.torchify_batch(s1)\n",
    "        vecs1 = model.encode(idxs=wx1, mask=wm1, lengths=wl1)\n",
    "        return vecs1\n"
   ]
  },
  {
   "cell_type": "code",
   "execution_count": null,
   "metadata": {},
   "outputs": [
    {
     "data": {
      "text/plain": [
       "WordAveraging(\n",
       "  (cosine): CosineSimilarity()\n",
       "  (embedding): Embedding(65733, 300)\n",
       ")"
      ]
     },
     "execution_count": 32,
     "metadata": {},
     "output_type": "execute_result"
    }
   ],
   "source": [
    "tok = TreebankWordTokenizer()\n",
    "\n",
    "model = torch.load('par3/par3_align/similarity/sim/sim.pt')\n",
    "state_dict = model['state_dict']\n",
    "vocab_words = model['vocab_words']\n",
    "args = model['args']\n",
    "# turn off gpu\n",
    "model = WordAveraging(args, vocab_words)\n",
    "model.load_state_dict(state_dict, strict=True)\n",
    "sp = spm.SentencePieceProcessor()\n",
    "sp.Load('par3/par3_align/similarity/sim/sim.sp.30k.model')\n",
    "model.eval()"
   ]
  },
  {
   "cell_type": "code",
   "execution_count": null,
   "metadata": {},
   "outputs": [
    {
     "data": {
      "text/plain": [
       "[0.3913867473602295]"
      ]
     },
     "execution_count": 33,
     "metadata": {},
     "output_type": "execute_result"
    }
   ],
   "source": [
    "find_similarity(['beep'], ['boop'])"
   ]
  },
  {
   "cell_type": "code",
   "execution_count": null,
   "metadata": {},
   "outputs": [
    {
     "data": {
      "image/png": "[encoded data removed]",
      "text/plain": [
       "<Figure size 640x480 with 1 Axes>"
      ]
     },
     "metadata": {},
     "output_type": "display_data"
    },
    {
     "name": "stdout",
     "output_type": "stream",
     "text": [
      "89.08166666666666\n"
     ]
    }
   ],
   "source": [
    "import matplotlib.pyplot as plt\n",
    "from statistics import mean\n",
    "import itertools\n",
    "from operator import itemgetter\n",
    "\n",
    "sims_gpt = []\n",
    "for id in gpt_dict.keys():\n",
    "    pairs = list(itertools.combinations(gpt_dict[id], 2))\n",
    "    similarities = []\n",
    "    for s1, s2 in pairs:\n",
    "        similarities.extend(find_similarity([s1], [s2]))\n",
    "    mean_sim = mean(similarities)\n",
    "    sims_gpt.append(mean_sim)\n",
    "        \n",
    "\n",
    "max_len = max(train_len)\n",
    "plt.hist(sims_gpt, bins=20, color='gold', edgecolor = \"black\") \n",
    "plt.title('ChatGPT: Mean Semantic Similarity between Idiom Sents')\n",
    "plt.xlabel('Semantic Similarity Score')\n",
    "plt.show() \n",
    "print(mean(fuzzy_gpt))"
   ]
  },
  {
   "cell_type": "code",
   "execution_count": null,
   "metadata": {},
   "outputs": [
    {
     "data": {
      "image/png": "[encoded data removed]",
      "text/plain": [
       "<Figure size 640x480 with 1 Axes>"
      ]
     },
     "metadata": {},
     "output_type": "display_data"
    },
    {
     "name": "stdout",
     "output_type": "stream",
     "text": [
      "89.19333333333333\n"
     ]
    }
   ],
   "source": [
    "sims_llama = []\n",
    "for id in llama_dict.keys():\n",
    "    pairs = list(itertools.combinations(llama_dict[id], 2))\n",
    "    similarities = []\n",
    "    for s1, s2 in pairs:\n",
    "        similarities.extend(find_similarity([s1], [s2]))\n",
    "    mean_sim = mean(similarities)\n",
    "    sims_llama.append(mean_sim)\n",
    "        \n",
    "\n",
    "plt.hist(sims_llama, bins=20, color='orange', edgecolor = \"black\") \n",
    "plt.title('Llama: Mean Semantic Similarity between Idiom Sents')\n",
    "plt.xlabel('Semantic Similarity Score')\n",
    "plt.show() \n",
    "print(mean(fuzzy_llama))"
   ]
  },
  {
   "cell_type": "code",
   "execution_count": null,
   "metadata": {},
   "outputs": [],
   "source": [
    "import pickle\n",
    "\n",
    "with open('/home/kkatsy/idioms/chatGPT_ru_dataset.pickle', 'wb') as handle:\n",
    "    pickle.dump(gpt_dict, handle, protocol=pickle.HIGHEST_PROTOCOL)\n",
    "    \n",
    "with open('/home/kkatsy/idioms/llama2_ru_dataset.pickle', 'wb') as handle:\n",
    "    pickle.dump(llama_dict, handle, protocol=pickle.HIGHEST_PROTOCOL)"
   ]
  }
 ],
 "metadata": {
  "kernelspec": {
   "display_name": "litmt",
   "language": "python",
   "name": "python3"
  },
  "language_info": {
   "codemirror_mode": {
    "name": "ipython",
    "version": 3
   },
   "file_extension": ".py",
   "mimetype": "text/x-python",
   "name": "python",
   "nbconvert_exporter": "python",
   "pygments_lexer": "ipython3",
   "version": "3.11.7"
  }
 },
 "nbformat": 4,
 "nbformat_minor": 2
}
